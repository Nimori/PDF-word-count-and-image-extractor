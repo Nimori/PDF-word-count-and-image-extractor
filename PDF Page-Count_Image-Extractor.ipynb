{
 "cells": [
  {
   "cell_type": "code",
   "execution_count": 2,
   "id": "2d665b33",
   "metadata": {},
   "outputs": [],
   "source": [
    "import re\n",
    "import PyPDF2\n",
    "import fitz\n",
    "#pip install frontend\n",
    "#pip install pymupdf"
   ]
  },
  {
   "cell_type": "markdown",
   "id": "dc2e04d4",
   "metadata": {},
   "source": [
    "## Word Count"
   ]
  },
  {
   "cell_type": "code",
   "execution_count": 3,
   "id": "ab8bd2f7",
   "metadata": {},
   "outputs": [],
   "source": [
    "def getPageCount(pdf_file):\n",
    "\n",
    "    pdfFileObj = open(pdf_file, 'rb')\n",
    "    pdfReader = PyPDF2.PdfFileReader(pdfFileObj)\n",
    "    pages = pdfReader.numPages\n",
    "    return pages"
   ]
  },
  {
   "cell_type": "code",
   "execution_count": 4,
   "id": "26fec496",
   "metadata": {},
   "outputs": [],
   "source": [
    "def extractData(pdf_file, page):\n",
    "\n",
    "    pdfFileObj = open(pdf_file, 'rb')\n",
    "    pdfReader = PyPDF2.PdfFileReader(pdfFileObj)\n",
    "    pageObj = pdfReader.getPage(page)\n",
    "    data = pageObj.extractText()\n",
    "    return data"
   ]
  },
  {
   "cell_type": "code",
   "execution_count": 5,
   "id": "3864f1e3",
   "metadata": {},
   "outputs": [],
   "source": [
    "def getWordCount(data):\n",
    "\n",
    "    data=data.split()\n",
    "    return len(data)"
   ]
  },
  {
   "cell_type": "code",
   "execution_count": 6,
   "id": "38eab92b",
   "metadata": {},
   "outputs": [
    {
     "name": "stderr",
     "output_type": "stream",
     "text": [
      "PdfReadWarning: Xref table not zero-indexed. ID numbers for objects will be corrected. [pdf.py:1736]\n"
     ]
    }
   ],
   "source": [
    "pdfFile= 'pulsars.pdf'\n",
    "totalWords = 0\n",
    "numPages = getPageCount(pdfFile)\n",
    "for i in range(numPages):\n",
    "    text = extractData(pdfFile, i)\n",
    "    totalWords+=getWordCount(text)"
   ]
  },
  {
   "cell_type": "code",
   "execution_count": 7,
   "id": "0aaca28c",
   "metadata": {},
   "outputs": [
    {
     "name": "stdout",
     "output_type": "stream",
     "text": [
      "1377\n"
     ]
    }
   ],
   "source": [
    "print(totalWords)"
   ]
  },
  {
   "cell_type": "code",
   "execution_count": 12,
   "id": "fc3a43d1",
   "metadata": {},
   "outputs": [
    {
     "data": {
      "text/plain": [
       "16"
      ]
     },
     "execution_count": 12,
     "metadata": {},
     "output_type": "execute_result"
    }
   ],
   "source": [
    "numPages"
   ]
  },
  {
   "cell_type": "markdown",
   "id": "95f40a1e",
   "metadata": {},
   "source": [
    "## Image Count"
   ]
  },
  {
   "cell_type": "code",
   "execution_count": 17,
   "id": "898606be",
   "metadata": {},
   "outputs": [],
   "source": [
    "pdf= fitz.open(pdfFile)"
   ]
  },
  {
   "cell_type": "code",
   "execution_count": 22,
   "id": "cd19acad",
   "metadata": {},
   "outputs": [],
   "source": [
    "img_list= []\n",
    "for i in range(numPages):\n",
    "    img= pdf.getPageImageList(i)\n",
    "    if len(img)!=0:\n",
    "        img_list.append(img)"
   ]
  },
  {
   "cell_type": "code",
   "execution_count": 23,
   "id": "eb3e1d91",
   "metadata": {},
   "outputs": [
    {
     "data": {
      "text/plain": [
       "[[(16, 0, 128, 128, 8, 'DeviceGray', '', 'Im1', 'DCTDecode')]]"
      ]
     },
     "execution_count": 23,
     "metadata": {},
     "output_type": "execute_result"
    }
   ],
   "source": [
    "img_list"
   ]
  },
  {
   "cell_type": "code",
   "execution_count": 26,
   "id": "fc20ccfe",
   "metadata": {},
   "outputs": [],
   "source": [
    "for image in img_list:\n",
    "    xref= image[0][0]           \n",
    "    pix= fitz.Pixmap(pdf, xref)"
   ]
  },
  {
   "cell_type": "code",
   "execution_count": 27,
   "id": "70550fa0",
   "metadata": {},
   "outputs": [],
   "source": [
    "pix.writePNG(f'{xref}.png')"
   ]
  }
 ],
 "metadata": {
  "kernelspec": {
   "display_name": "Python 3",
   "language": "python",
   "name": "python3"
  },
  "language_info": {
   "codemirror_mode": {
    "name": "ipython",
    "version": 3
   },
   "file_extension": ".py",
   "mimetype": "text/x-python",
   "name": "python",
   "nbconvert_exporter": "python",
   "pygments_lexer": "ipython3",
   "version": "3.8.5"
  }
 },
 "nbformat": 4,
 "nbformat_minor": 5
}
